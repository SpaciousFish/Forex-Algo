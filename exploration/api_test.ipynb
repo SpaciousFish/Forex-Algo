{
 "cells": [
  {
   "cell_type": "code",
   "execution_count": 1,
   "id": "0d5dd441",
   "metadata": {},
   "outputs": [],
   "source": [
    "import requests\n",
    "import pandas as pd\n",
    "import json\n",
    "from dateutil import parser"
   ]
  },
  {
   "cell_type": "code",
   "execution_count": 2,
   "id": "eb7ee1e9",
   "metadata": {},
   "outputs": [],
   "source": [
    "API_KEY = \"fb4b942d12f81bbe3f8de3afabb65a2e-588ead9b0fbdab2ecffe470ac37a425e\"\n",
    "ACCOUNT_ID = \"101-002-18686285-001\"\n",
    "OANDA_URL = \"https://api-fxpractice.oanda.com/v3\""
   ]
  },
  {
   "cell_type": "code",
   "execution_count": 3,
   "id": "ec3d2e5b",
   "metadata": {},
   "outputs": [],
   "source": [
    "session = requests.Session()"
   ]
  },
  {
   "cell_type": "code",
   "execution_count": 4,
   "id": "cb8e4487",
   "metadata": {},
   "outputs": [],
   "source": [
    "session.headers.update({\n",
    "    \"Authorization\" : f\"Bearer {API_KEY}\",\n",
    "    \"Content-Type\" : \"application/json\"\n",
    "})"
   ]
  },
  {
   "cell_type": "code",
   "execution_count": 5,
   "id": "45ed729d",
   "metadata": {},
   "outputs": [],
   "source": [
    "params = dict(\n",
    "    count = 10,\n",
    "    granularity = \"H1\",\n",
    "    price = \"MBA\"\n",
    ")"
   ]
  },
  {
   "cell_type": "code",
   "execution_count": 6,
   "id": "a1c2c715",
   "metadata": {},
   "outputs": [],
   "source": [
    "url = f\"{OANDA_URL}/accounts/{ACCOUNT_ID}/instruments\""
   ]
  },
  {
   "cell_type": "code",
   "execution_count": 7,
   "id": "3f0963d4",
   "metadata": {},
   "outputs": [],
   "source": [
    "response = session.get(url, params=None, data=None, headers=None)"
   ]
  },
  {
   "cell_type": "code",
   "execution_count": 8,
   "id": "216dce3d",
   "metadata": {},
   "outputs": [
    {
     "data": {
      "text/plain": [
       "200"
      ]
     },
     "execution_count": 8,
     "metadata": {},
     "output_type": "execute_result"
    }
   ],
   "source": [
    "response.status_code"
   ]
  },
  {
   "cell_type": "code",
   "execution_count": 9,
   "id": "8c6d26bf",
   "metadata": {},
   "outputs": [],
   "source": [
    "data = response.json()"
   ]
  },
  {
   "cell_type": "code",
   "execution_count": 10,
   "id": "6e9375b7",
   "metadata": {},
   "outputs": [],
   "source": [
    "instruments_list = data['instruments']"
   ]
  },
  {
   "cell_type": "code",
   "execution_count": 11,
   "id": "31be37ef",
   "metadata": {},
   "outputs": [
    {
     "data": {
      "text/plain": [
       "125"
      ]
     },
     "execution_count": 11,
     "metadata": {},
     "output_type": "execute_result"
    }
   ],
   "source": [
    "len(instruments_list)"
   ]
  },
  {
   "cell_type": "code",
   "execution_count": 12,
   "id": "a456f7cc",
   "metadata": {},
   "outputs": [
    {
     "data": {
      "text/plain": [
       "dict_keys(['name', 'type', 'displayName', 'pipLocation', 'displayPrecision', 'tradeUnitsPrecision', 'minimumTradeSize', 'maximumTrailingStopDistance', 'minimumTrailingStopDistance', 'maximumPositionSize', 'maximumOrderUnits', 'marginRate', 'guaranteedStopLossOrderMode', 'tags', 'financing'])"
      ]
     },
     "execution_count": 12,
     "metadata": {},
     "output_type": "execute_result"
    }
   ],
   "source": [
    "instruments_list[0].keys()"
   ]
  },
  {
   "cell_type": "code",
   "execution_count": 13,
   "id": "03f42fb6",
   "metadata": {},
   "outputs": [],
   "source": [
    "key_i = ['name', 'type', 'displayName', 'pipLocation', \n",
    "         'displayPrecision', 'tradeUnitsPrecision', 'marginRate']"
   ]
  },
  {
   "cell_type": "code",
   "execution_count": 14,
   "id": "ec94c5f3",
   "metadata": {},
   "outputs": [],
   "source": [
    "instruments_dict = {}\n",
    "for i in instruments_list:\n",
    "    key = i['name']\n",
    "    instruments_dict[key] = { k: i[k] for k in key_i }"
   ]
  },
  {
   "cell_type": "code",
   "execution_count": 15,
   "id": "4ea40609",
   "metadata": {},
   "outputs": [
    {
     "data": {
      "text/plain": [
       "{'name': 'USD_CAD',\n",
       " 'type': 'CURRENCY',\n",
       " 'displayName': 'USD/CAD',\n",
       " 'pipLocation': -4,\n",
       " 'displayPrecision': 5,\n",
       " 'tradeUnitsPrecision': 0,\n",
       " 'marginRate': '0.02'}"
      ]
     },
     "execution_count": 15,
     "metadata": {},
     "output_type": "execute_result"
    }
   ],
   "source": [
    "instruments_dict['USD_CAD']"
   ]
  },
  {
   "cell_type": "code",
   "execution_count": 16,
   "id": "9e8f4d00",
   "metadata": {},
   "outputs": [],
   "source": [
    "with open(\"../data/instruments.json\", \"w\") as f:\n",
    "    f.write(json.dumps(instruments_dict, indent=2))"
   ]
  },
  {
   "cell_type": "code",
   "execution_count": 17,
   "id": "605e1d9f",
   "metadata": {},
   "outputs": [],
   "source": [
    "def fetch_candles(pair_name, count=10, granularity=\"H1\"):\n",
    "    url = f\"{OANDA_URL}/instruments/{pair_name}/candles\"\n",
    "    params = dict(\n",
    "        count = count,\n",
    "        granularity = granularity,\n",
    "        price = \"MBA\"\n",
    "    )\n",
    "    response = session.get(url, params=params, data=None, headers=None)\n",
    "    data = response.json()\n",
    "    \n",
    "    if response.status_code == 200:\n",
    "        if 'candles' not in data:\n",
    "            data = []\n",
    "        else:\n",
    "            data = data['candles']\n",
    "    return response.status_code, data\n",
    "\n",
    "def get_candles_df(data):\n",
    "    if len(data) == 0:\n",
    "        return pd.DataFrame()\n",
    "    \n",
    "    prices = ['mid', 'bid', 'ask']\n",
    "    ohlc = ['o', 'h', 'l', 'c']\n",
    "    \n",
    "    final_data = []\n",
    "    for candle in data:\n",
    "        if candle['complete'] == False:\n",
    "            continue\n",
    "        new_dict = {}\n",
    "        new_dict['time'] = parser.parse(candle['time'])\n",
    "        new_dict['volume'] = candle['volume']\n",
    "        for p in prices:\n",
    "            for o in ohlc:\n",
    "                new_dict[f\"{p}_{o}\"] = float(candle[p][o])\n",
    "        final_data.append(new_dict)\n",
    "    df = pd.DataFrame.from_dict(final_data)\n",
    "    return df\n",
    "\n",
    "def create_data_file(pair_name, count=10, granularity=\"H1\"):\n",
    "    code, data = fetch_candles(pair_name, count, granularity)\n",
    "    if code != 200:\n",
    "        print(\"Failed\", pair_name, data)\n",
    "        return\n",
    "    if len(data) == 0:\n",
    "        print(\"No candles\", pair_name)\n",
    "    candles_df = get_candles_df(data)\n",
    "    candles_df.to_pickle(f\"../data/{pair_name}_{granularity}.pkl\")\n",
    "    print(f\"{pair_name} {granularity} {candles_df.shape[0]} candles, {candles_df.time.min()} {candles_df.time.max()}\")\n",
    "    "
   ]
  },
  {
   "cell_type": "code",
   "execution_count": 18,
   "id": "76b03904",
   "metadata": {},
   "outputs": [],
   "source": [
    "code, data = fetch_candles(\"EUR_USD\", count=10, granularity=\"H4\")\n",
    "candles_df = get_candles_df(data)"
   ]
  },
  {
   "cell_type": "code",
   "execution_count": 19,
   "id": "0ac8a96d",
   "metadata": {},
   "outputs": [
    {
     "name": "stdout",
     "output_type": "stream",
     "text": [
      "EUR_USD H4 10 candles, 2022-06-02 05:00:00+00:00 2022-06-03 17:00:00+00:00\n"
     ]
    }
   ],
   "source": [
    "create_data_file(\"EUR_USD\", count=10, granularity=\"H4\")"
   ]
  },
  {
   "cell_type": "code",
   "execution_count": 20,
   "id": "99061ddd",
   "metadata": {},
   "outputs": [],
   "source": [
    "our_curr = ['EUR', 'USD', 'GBP', 'JPY', 'NZD', 'CAD', 'AUD']"
   ]
  },
  {
   "cell_type": "code",
   "execution_count": 21,
   "id": "eedc841e",
   "metadata": {},
   "outputs": [
    {
     "name": "stdout",
     "output_type": "stream",
     "text": [
      "EUR_USD H1 4001 candles, 2021-10-14 00:00:00+00:00 2022-06-03 20:00:00+00:00\n",
      "EUR_USD H4 4001 candles, 2019-11-08 02:00:00+00:00 2022-06-03 17:00:00+00:00\n",
      "EUR_GBP H1 4001 candles, 2021-10-13 21:00:00+00:00 2022-06-03 20:00:00+00:00\n",
      "EUR_GBP H4 4001 candles, 2019-11-08 02:00:00+00:00 2022-06-03 17:00:00+00:00\n",
      "EUR_JPY H1 4001 candles, 2021-10-13 15:00:00+00:00 2022-06-03 20:00:00+00:00\n",
      "EUR_JPY H4 4001 candles, 2019-11-07 18:00:00+00:00 2022-06-03 17:00:00+00:00\n",
      "EUR_NZD H1 4001 candles, 2021-10-14 00:00:00+00:00 2022-06-03 20:00:00+00:00\n",
      "EUR_NZD H4 4001 candles, 2019-11-08 02:00:00+00:00 2022-06-03 17:00:00+00:00\n",
      "EUR_CAD H1 4001 candles, 2021-10-14 00:00:00+00:00 2022-06-03 20:00:00+00:00\n",
      "EUR_CAD H4 4001 candles, 2019-11-08 02:00:00+00:00 2022-06-03 17:00:00+00:00\n",
      "EUR_AUD H1 4001 candles, 2021-10-13 22:00:00+00:00 2022-06-03 20:00:00+00:00\n",
      "EUR_AUD H4 4001 candles, 2019-11-08 02:00:00+00:00 2022-06-03 17:00:00+00:00\n",
      "USD_JPY H1 4001 candles, 2021-10-14 00:00:00+00:00 2022-06-03 20:00:00+00:00\n",
      "USD_JPY H4 4001 candles, 2019-11-08 06:00:00+00:00 2022-06-03 17:00:00+00:00\n",
      "USD_CAD H1 4001 candles, 2021-10-14 00:00:00+00:00 2022-06-03 20:00:00+00:00\n",
      "USD_CAD H4 4001 candles, 2019-11-08 02:00:00+00:00 2022-06-03 17:00:00+00:00\n",
      "GBP_USD H1 4001 candles, 2021-10-14 00:00:00+00:00 2022-06-03 20:00:00+00:00\n",
      "GBP_USD H4 4001 candles, 2019-11-08 02:00:00+00:00 2022-06-03 17:00:00+00:00\n",
      "GBP_JPY H1 4001 candles, 2021-10-14 00:00:00+00:00 2022-06-03 20:00:00+00:00\n",
      "GBP_JPY H4 4001 candles, 2019-11-08 02:00:00+00:00 2022-06-03 17:00:00+00:00\n",
      "GBP_NZD H1 4001 candles, 2021-10-14 00:00:00+00:00 2022-06-03 20:00:00+00:00\n",
      "GBP_NZD H4 4001 candles, 2019-11-08 02:00:00+00:00 2022-06-03 17:00:00+00:00\n",
      "GBP_CAD H1 4001 candles, 2021-10-14 00:00:00+00:00 2022-06-03 20:00:00+00:00\n",
      "GBP_CAD H4 4001 candles, 2019-11-08 02:00:00+00:00 2022-06-03 17:00:00+00:00\n",
      "GBP_AUD H1 4001 candles, 2021-10-14 00:00:00+00:00 2022-06-03 20:00:00+00:00\n",
      "GBP_AUD H4 4001 candles, 2019-11-08 02:00:00+00:00 2022-06-03 17:00:00+00:00\n",
      "NZD_USD H1 4001 candles, 2021-10-13 21:00:00+00:00 2022-06-03 20:00:00+00:00\n",
      "NZD_USD H4 4001 candles, 2019-11-08 06:00:00+00:00 2022-06-03 17:00:00+00:00\n",
      "NZD_JPY H1 4001 candles, 2021-10-14 00:00:00+00:00 2022-06-03 20:00:00+00:00\n",
      "NZD_JPY H4 4001 candles, 2019-11-08 06:00:00+00:00 2022-06-03 17:00:00+00:00\n",
      "NZD_CAD H1 4001 candles, 2021-10-14 00:00:00+00:00 2022-06-03 20:00:00+00:00\n",
      "NZD_CAD H4 4001 candles, 2019-11-08 02:00:00+00:00 2022-06-03 17:00:00+00:00\n",
      "CAD_JPY H1 4001 candles, 2021-10-14 00:00:00+00:00 2022-06-03 20:00:00+00:00\n",
      "CAD_JPY H4 4001 candles, 2019-11-08 02:00:00+00:00 2022-06-03 17:00:00+00:00\n",
      "AUD_USD H1 4001 candles, 2021-10-13 19:00:00+00:00 2022-06-03 20:00:00+00:00\n",
      "AUD_USD H4 4001 candles, 2019-11-08 02:00:00+00:00 2022-06-03 17:00:00+00:00\n",
      "AUD_JPY H1 4001 candles, 2021-10-14 10:00:00+00:00 2022-06-03 20:00:00+00:00\n",
      "AUD_JPY H4 4001 candles, 2019-11-11 02:00:00+00:00 2022-06-03 17:00:00+00:00\n",
      "AUD_NZD H1 4001 candles, 2021-10-13 18:00:00+00:00 2022-06-03 20:00:00+00:00\n",
      "AUD_NZD H4 4001 candles, 2019-11-07 22:00:00+00:00 2022-06-03 17:00:00+00:00\n",
      "AUD_CAD H1 4001 candles, 2021-10-14 00:00:00+00:00 2022-06-03 20:00:00+00:00\n",
      "AUD_CAD H4 4001 candles, 2019-11-08 02:00:00+00:00 2022-06-03 17:00:00+00:00\n"
     ]
    }
   ],
   "source": [
    "for p1 in our_curr:\n",
    "    for p2 in our_curr:\n",
    "        pr = f\"{p1}_{p2}\"\n",
    "        if pr in instruments_dict:\n",
    "            for g in [\"H1\", \"H4\"]:\n",
    "                create_data_file(pr, count=4001, granularity=g)"
   ]
  },
  {
   "cell_type": "code",
   "execution_count": null,
   "id": "594ac688",
   "metadata": {},
   "outputs": [],
   "source": []
  },
  {
   "cell_type": "code",
   "execution_count": null,
   "id": "e6ab2fe4",
   "metadata": {},
   "outputs": [],
   "source": []
  },
  {
   "cell_type": "code",
   "execution_count": null,
   "id": "2cc6e7a0",
   "metadata": {},
   "outputs": [],
   "source": []
  },
  {
   "cell_type": "code",
   "execution_count": null,
   "id": "814a9a95",
   "metadata": {},
   "outputs": [],
   "source": []
  }
 ],
 "metadata": {
  "kernelspec": {
   "display_name": "Python 3 (ipykernel)",
   "language": "python",
   "name": "python3"
  },
  "language_info": {
   "codemirror_mode": {
    "name": "ipython",
    "version": 3
   },
   "file_extension": ".py",
   "mimetype": "text/x-python",
   "name": "python",
   "nbconvert_exporter": "python",
   "pygments_lexer": "ipython3",
   "version": "3.8.3"
  }
 },
 "nbformat": 4,
 "nbformat_minor": 5
}
